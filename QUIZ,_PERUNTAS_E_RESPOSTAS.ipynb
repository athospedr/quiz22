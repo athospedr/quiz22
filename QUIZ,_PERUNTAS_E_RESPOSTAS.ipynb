{
  "cells": [
    {
      "cell_type": "code",
      "execution_count": null,
      "metadata": {
        "colab": {
          "background_save": true,
          "base_uri": "https://localhost:8080/"
        },
        "id": "XLESIs81wzDz",
        "outputId": "4fe75336-db75-4f65-dd21-9b4202b3a651"
      },
      "outputs": [
        {
          "name": "stdout",
          "output_type": "stream",
          "text": [
            "Qual palavra-chave é usada para definir uma função em Python?\n",
            "a) function\n",
            "b) def\n",
            "c) func\n",
            "d) define\n"
          ]
        }
      ],
      "source": [
        "import random\n",
        "\n",
        "\n",
        "perguntas_respostas = [\n",
        "    (\"Qual símbolo é usado para comentários de uma linha em Python?\",\n",
        "     [\"a) //\", \"b) #\", \"c) /*\", \"d) --\"],\n",
        "     \"b\"),\n",
        "\n",
        "    (\"Qual função é usada para imprimir texto na tela em Python?\",\n",
        "     [\"a) show()\", \"b) display()\", \"c) console.log()\", \"d) print()\"],\n",
        "     \"d\"),\n",
        "\n",
        "    (\"Qual estrutura de dados em Python é mais semelhante a um array em outras linguagens?\",\n",
        "     [\"a) Tupla\", \"b) Dicionário\", \"c) Array\", \"d) Set\"],\n",
        "     \"c\"),\n",
        "\n",
        "    (\"Qual palavra-chave é usada para definir uma função em Python?\",\n",
        "     [\"a) function\", \"b) def\", \"c) func\", \"d) define\"],\n",
        "     \"b\"),\n",
        "\n",
        "    (\"Qual operador é usado para verificar igualdade em Python?\",\n",
        "     [\"a) =\", \"b) ===\", \"c) ==\", \"d) .equals()\"],\n",
        "     \"c\")\n",
        "]\n",
        "\n",
        "def fazer_pergunta(perguntas_respostas):\n",
        "\n",
        "    pergunta, alternativas, resposta_correta = random.choice(perguntas_respostas)\n",
        "\n",
        "\n",
        "    print(pergunta)\n",
        "    for alternativa in alternativas:\n",
        "        print(alternativa)\n",
        "\n",
        "\n",
        "    resposta_usuario = input(\"Digite a letra da resposta correta: \").strip().lower()\n",
        "\n",
        "\n",
        "    if resposta_usuario == resposta_correta:\n",
        "        print(\"Resposta correta!\")\n",
        "    else:\n",
        "        print(f\"Resposta incorreta. A resposta correta é: {resposta_correta}) {alternativas[ord(resposta_correta)-97][3:]}\")\n",
        "\n",
        "    return pergunta\n",
        "\n",
        "\n",
        "def executar_quiz(perguntas_respostas):\n",
        "    perguntas_restantes = perguntas_respostas.copy()\n",
        "    while perguntas_restantes:\n",
        "        pergunta_feita = fazer_pergunta(perguntas_restantes)\n",
        "        perguntas_restantes = [p for p in perguntas_restantes if p[0] != pergunta_feita]\n",
        "\n",
        "\n",
        "executar_quiz(perguntas_respostas)"
      ]
    }
  ],
  "metadata": {
    "colab": {
      "toc_visible": true,
      "provenance": []
    },
    "kernelspec": {
      "display_name": "Python 3",
      "name": "python3"
    },
    "language_info": {
      "name": "python"
    }
  },
  "nbformat": 4,
  "nbformat_minor": 0
}